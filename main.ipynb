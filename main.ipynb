{
 "cells": [
  {
   "cell_type": "markdown",
   "metadata": {},
   "source": [
    "Importing libraries"
   ]
  },
  {
   "cell_type": "code",
   "execution_count": 1,
   "metadata": {
    "scrolled": true
   },
   "outputs": [
    {
     "name": "stdout",
     "output_type": "stream",
     "text": [
      "!pip install matplotlib\r\n"
     ]
    }
   ],
   "source": [
    "!echo !pip install matplotlib"
   ]
  },
  {
   "cell_type": "code",
   "execution_count": 16,
   "metadata": {
    "scrolled": true
   },
   "outputs": [],
   "source": [
    "import numpy as np\n",
    "import tensorflow\n",
    "import matplotlib\n",
    "import pandas as pd\n",
    "import requests\n",
    "import time"
   ]
  },
  {
   "cell_type": "markdown",
   "metadata": {},
   "source": [
    "Creating data parser"
   ]
  },
  {
   "cell_type": "code",
   "execution_count": 23,
   "metadata": {},
   "outputs": [],
   "source": [
    "DATABASE_URL = \"https://crossoutdb.com/\"\n",
    "\n",
    "def getJSONDataOfItemByID(fileID: int):\n",
    "    id = fileID\n",
    "    path = 'data/item/all/'\n",
    "    url = DATABASE_URL + path + str(id)\n",
    "    requests_file = requests.get(url)\n",
    "    jsonData = requests_file.json()['Data']\n",
    "    return jsonData\n",
    "\n",
    "JSONdataOfItemWithID_68 = getJSONDataOfItemByID(68)"
   ]
  },
  {
   "cell_type": "code",
   "execution_count": 33,
   "metadata": {},
   "outputs": [],
   "source": [
    "def convertOneItemDataToDataframeFromJson(jsonData):\n",
    "    jsonDataCopy_1 = jsonData\n",
    "    \n",
    "    def getArrayDataFromJson(jsonData):\n",
    "        jsonDataCopy = jsonData\n",
    "        \n",
    "        numberOfColumns = len(jsonDataCopy)\n",
    "        numberOfRows = len(jsonDataCopy[0])\n",
    "\n",
    "        # json file has shape of 4 \"columns\" with the same lenght. \n",
    "        # Each column is represented by time (like key) and its value.\n",
    "\n",
    "        arrayData = []\n",
    "        for row in range(numberOfRows):\n",
    "            sellPrice = jsonDataCopy[0][row][1]\n",
    "            buyPrice = jsonDataCopy[1][row][1]\n",
    "            sellOffers = jsonDataCopy[2][row][1]\n",
    "            buyOrders = jsonDataCopy[3][row][1]\n",
    "\n",
    "            # key / time --- UNIX_TIMESTAMP\n",
    "            dateTime = jsonDataCopy[0][row][0]\n",
    "\n",
    "            rowData = [dateTime, sellPrice, buyPrice, sellOffers, buyOrders]\n",
    "            arrayData.append(rowData)\n",
    "        return arrayData\n",
    "    \n",
    "    numpyArrayData = np.array(getArrayDataFromJson(jsonDataCopy_1))\n",
    "    df = pd.DataFrame(numpyArrayData, columns=[\"Date Time\", \"Sell Price\", \"Buy Price\", \"Sell Offers\", \"Buy Orders\"])\n",
    "    return df"
   ]
  },
  {
   "cell_type": "code",
   "execution_count": 36,
   "metadata": {},
   "outputs": [
    {
     "name": "stdout",
     "output_type": "stream",
     "text": [
      "      Date Time  Sell Price  Buy Price  Sell Offers  Buy Orders\n",
      "0  1.711058e+12       37.17      31.01         69.0        39.0\n",
      "1  1.711062e+12       35.91      31.00         60.0        39.0\n",
      "2  1.711066e+12       35.73      30.60         59.0        35.0\n",
      "3  1.711069e+12       37.13      30.32         59.0        32.0\n",
      "4  1.711073e+12       37.19      30.78         60.0        31.0\n"
     ]
    }
   ],
   "source": [
    "df = convertOneItemDataToDataframeFromJson(JSONdataOfItemWithID_68)\n",
    "print(df.head())"
   ]
  },
  {
   "cell_type": "code",
   "execution_count": null,
   "metadata": {},
   "outputs": [],
   "source": []
  }
 ],
 "metadata": {
  "kernelspec": {
   "display_name": "Python 3.10 (py310)",
   "language": "python",
   "name": "py310"
  },
  "language_info": {
   "codemirror_mode": {
    "name": "ipython",
    "version": 3
   },
   "file_extension": ".py",
   "mimetype": "text/x-python",
   "name": "python",
   "nbconvert_exporter": "python",
   "pygments_lexer": "ipython3",
   "version": "3.10.14"
  }
 },
 "nbformat": 4,
 "nbformat_minor": 2
}
